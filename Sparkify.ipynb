{
 "cells": [
  {
   "cell_type": "markdown",
   "metadata": {},
   "source": [
    "# Sparkify Project Workspace\n",
    "This workspace contains a tiny subset (128MB) of the full dataset available (12GB). Feel free to use this workspace to build your project, or to explore a smaller subset with Spark before deploying your cluster on the cloud. Instructions for setting up your Spark cluster is included in the last lesson of the Extracurricular Spark Course content.\n",
    "\n",
    "You can follow the steps below to guide your data analysis and model building portion of this project."
   ]
  },
  {
   "cell_type": "code",
   "execution_count": 1,
   "metadata": {},
   "outputs": [],
   "source": [
    "import matplotlib.pyplot as plt\n",
    "import seaborn as sns\n",
    "import numpy as np\n",
    "import time\n",
    "from datetime import datetime\n",
    "from functools import reduce\n",
    "\n",
    "from pyspark.sql import SparkSession\n",
    "from pyspark.sql.functions import avg, col, concat, desc, explode, lit, min, max, split, udf\n",
    "from pyspark.sql.types import IntegerType\n",
    "\n",
    "from pyspark.ml import Pipeline\n",
    "from pyspark.ml.classification import LogisticRegression\n",
    "from pyspark.ml.evaluation import MulticlassClassificationEvaluator\n",
    "from pyspark.ml.feature import CountVectorizer, IDF, Normalizer, PCA, RegexTokenizer, StandardScaler, StopWordsRemover, StringIndexer, VectorAssembler\n",
    "from pyspark.ml.tuning import CrossValidator, ParamGridBuilder\n",
    "\n",
    "import re"
   ]
  },
  {
   "cell_type": "code",
   "execution_count": 2,
   "metadata": {},
   "outputs": [],
   "source": [
    "spark = SparkSession.builder \\\n",
    "    .master(\"local\") \\\n",
    "    .appName(\"Sparkify Churn Analysis\") \\\n",
    "    .getOrCreate()"
   ]
  },
  {
   "cell_type": "markdown",
   "metadata": {},
   "source": [
    "# Load and Clean Dataset\n",
    "In this workspace, the mini-dataset file is `mini_sparkify_event_data.json`. Load and clean the dataset, checking for invalid or missing data - for example, records without userids or sessionids. "
   ]
  },
  {
   "cell_type": "code",
   "execution_count": 38,
   "metadata": {},
   "outputs": [
    {
     "data": {
      "text/plain": [
       "DataFrame[artist: string, auth: string, firstName: string, gender: string, itemInSession: bigint, lastName: string, length: double, level: string, location: string, method: string, page: string, registration: bigint, sessionId: bigint, song: string, status: bigint, ts: bigint, userAgent: string, userId: string]"
      ]
     },
     "execution_count": 38,
     "metadata": {},
     "output_type": "execute_result"
    }
   ],
   "source": [
    "# load dataset\n",
    "sparkify_event_data = 'mini_sparkify_event_data.json'\n",
    "df = spark.read.json(sparkify_event_data)\n",
    "df.persist()"
   ]
  },
  {
   "cell_type": "code",
   "execution_count": 4,
   "metadata": {},
   "outputs": [
    {
     "data": {
      "text/plain": [
       "Row(artist='Martha Tilston', auth='Logged In', firstName='Colin', gender='M', itemInSession=50, lastName='Freeman', length=277.89016, level='paid', location='Bakersfield, CA', method='PUT', page='NextSong', registration=1538173362000, sessionId=29, song='Rockpools', status=200, ts=1538352117000, userAgent='Mozilla/5.0 (Windows NT 6.1; WOW64; rv:31.0) Gecko/20100101 Firefox/31.0', userId='30')"
      ]
     },
     "execution_count": 4,
     "metadata": {},
     "output_type": "execute_result"
    }
   ],
   "source": [
    "df.head()"
   ]
  },
  {
   "cell_type": "code",
   "execution_count": 5,
   "metadata": {},
   "outputs": [
    {
     "name": "stdout",
     "output_type": "stream",
     "text": [
      "+-------+------------------+----------+---------+------+------------------+--------+-----------------+------+-----------------+------+-------+--------------------+-----------------+--------------------+------------------+--------------------+--------------------+-----------------+\n",
      "|summary|            artist|      auth|firstName|gender|     itemInSession|lastName|           length| level|         location|method|   page|        registration|        sessionId|                song|            status|                  ts|           userAgent|           userId|\n",
      "+-------+------------------+----------+---------+------+------------------+--------+-----------------+------+-----------------+------+-------+--------------------+-----------------+--------------------+------------------+--------------------+--------------------+-----------------+\n",
      "|  count|            228108|    286500|   278154|278154|            286500|  278154|           228108|286500|           278154|286500| 286500|              278154|           286500|              228108|            286500|              286500|              278154|           286500|\n",
      "|   mean| 551.0852017937219|      null|     null|  null|114.41421291448516|    null|249.1171819778458|  null|             null|  null|   null|1.535358834084427...|1041.526554973822|            Infinity|210.05459685863875|1.540956889810483...|                null|59682.02278593872|\n",
      "| stddev|1217.7693079161374|      null|     null|  null|129.76726201140994|    null|99.23517921058361|  null|             null|  null|   null| 3.291321616327586E9|726.7762634630741|                 NaN| 31.50507848842214|1.5075439608226302E9|                null|109091.9499991047|\n",
      "|    min|               !!!| Cancelled| Adelaida|     F|                 0|   Adams|          0.78322|  free|       Albany, OR|   GET|  About|       1521380675000|                1|\u001c",
      "ÃÂg ÃÂtti Gr...|               200|       1538352117000|\"Mozilla/5.0 (Mac...|                 |\n",
      "|    max| ÃÂlafur Arnalds|Logged Out|   Zyonna|     M|              1321|  Wright|       3024.66567|  paid|Winston-Salem, NC|   PUT|Upgrade|       1543247354000|             2474|ÃÂau hafa slopp...|               404|       1543799476000|Mozilla/5.0 (comp...|               99|\n",
      "+-------+------------------+----------+---------+------+------------------+--------+-----------------+------+-----------------+------+-------+--------------------+-----------------+--------------------+------------------+--------------------+--------------------+-----------------+\n",
      "\n"
     ]
    }
   ],
   "source": [
    "df.describe().show()"
   ]
  },
  {
   "cell_type": "markdown",
   "metadata": {},
   "source": [
    "#### Clean dataset"
   ]
  },
  {
   "cell_type": "code",
   "execution_count": 6,
   "metadata": {},
   "outputs": [
    {
     "name": "stdout",
     "output_type": "stream",
     "text": [
      "(286500, 18)\n"
     ]
    }
   ],
   "source": [
    "print((df.count(), len(df.columns)))"
   ]
  },
  {
   "cell_type": "code",
   "execution_count": 7,
   "metadata": {},
   "outputs": [
    {
     "data": {
      "text/plain": [
       "artist           58392\n",
       "auth                 0\n",
       "firstName         8346\n",
       "gender            8346\n",
       "itemInSession        0\n",
       "lastName          8346\n",
       "length           58392\n",
       "level                0\n",
       "location          8346\n",
       "method               0\n",
       "page                 0\n",
       "registration      8346\n",
       "sessionId            0\n",
       "song             58392\n",
       "status               0\n",
       "ts                   0\n",
       "userAgent         8346\n",
       "userId               0\n",
       "dtype: int64"
      ]
     },
     "execution_count": 7,
     "metadata": {},
     "output_type": "execute_result"
    }
   ],
   "source": [
    "df.toPandas().isnull().sum()"
   ]
  },
  {
   "cell_type": "code",
   "execution_count": 8,
   "metadata": {},
   "outputs": [
    {
     "data": {
      "image/png": "[encoded data removed]",
      "text/plain": [
       "<matplotlib.figure.Figure at 0x7ffb34c8d7b8>"
      ]
     },
     "metadata": {
      "needs_background": "light"
     },
     "output_type": "display_data"
    }
   ],
   "source": [
    "null_number = df.toPandas().isnull().sum()\n",
    "\n",
    "plt.figure(figsize=(10, 5))\n",
    "plt.title('Distribution of Number of Missing Value Points in the Sparkify Dataset in Each Column')\n",
    "plt.hist(null_number / df.count() * 100, bins=100)\n",
    "plt.xlabel('Percentage of Missing Data (%)')\n",
    "plt.ylabel('Count(s)')\n",
    "plt.show()"
   ]
  },
  {
   "cell_type": "code",
   "execution_count": 9,
   "metadata": {},
   "outputs": [
    {
     "name": "stdout",
     "output_type": "stream",
     "text": [
      "Attributes with equal to or under 2% of missing data: 9\n",
      "Attributes with over 2% of missing data: 9\n",
      "Attributes with missing data that exceeds 2%: \n",
      "artist          20.381152\n",
      "firstName        2.913089\n",
      "gender           2.913089\n",
      "lastName         2.913089\n",
      "length          20.381152\n",
      "location         2.913089\n",
      "registration     2.913089\n",
      "song            20.381152\n",
      "userAgent        2.913089\n",
      "dtype: float64\n"
     ]
    }
   ],
   "source": [
    "# Investigate patterns in the amount of missing data in each column\n",
    "data_under_2 = (null_number / df.count() * 100) <= 2\n",
    "data_over_2 = (null_number / df.count() * 100) > 2\n",
    "attri_over_2 = null_number.loc[(null_number / df.count() * 100) > 2]\n",
    "print(\"Attributes with equal to or under 2% of missing data: {}\".format(data_under_2.sum()))\n",
    "print(\"Attributes with over 2% of missing data: {}\".format(data_over_2.sum()))\n",
    "print(\"Attributes with missing data that exceeds 2%: \\n{}\".format(attri_over_2 / df.count() * 100))"
   ]
  },
  {
   "cell_type": "code",
   "execution_count": 39,
   "metadata": {},
   "outputs": [
    {
     "name": "stdout",
     "output_type": "stream",
     "text": [
      "+---------+-------------+-----+------+---------------+---------+------+-------------+------+\n",
      "|     auth|itemInSession|level|method|           page|sessionId|status|           ts|userId|\n",
      "+---------+-------------+-----+------+---------------+---------+------+-------------+------+\n",
      "|Logged In|           50| paid|   PUT|       NextSong|       29|   200|1538352117000|    30|\n",
      "|Logged In|           79| free|   PUT|       NextSong|        8|   200|1538352180000|     9|\n",
      "|Logged In|           51| paid|   PUT|       NextSong|       29|   200|1538352394000|    30|\n",
      "|Logged In|           80| free|   PUT|       NextSong|        8|   200|1538352416000|     9|\n",
      "|Logged In|           52| paid|   PUT|       NextSong|       29|   200|1538352676000|    30|\n",
      "|Logged In|           81| free|   PUT|       NextSong|        8|   200|1538352678000|     9|\n",
      "|Logged In|           82| free|   PUT|       NextSong|        8|   200|1538352886000|     9|\n",
      "|Logged In|           53| paid|   PUT|       NextSong|       29|   200|1538352899000|    30|\n",
      "|Logged In|           54| paid|   PUT|Add to Playlist|       29|   200|1538352905000|    30|\n",
      "|Logged In|           55| paid|   PUT|       NextSong|       29|   200|1538353084000|    30|\n",
      "|Logged In|           83| free|   PUT|       NextSong|        8|   200|1538353146000|     9|\n",
      "|Logged In|           84| free|   GET|    Roll Advert|        8|   200|1538353150000|     9|\n",
      "|Logged In|           56| paid|   PUT|       NextSong|       29|   200|1538353218000|    30|\n",
      "|Logged In|           85| free|   PUT|       NextSong|        8|   200|1538353375000|     9|\n",
      "|Logged In|           86| free|   PUT|      Thumbs Up|        8|   307|1538353376000|     9|\n",
      "|Logged In|           57| paid|   PUT|       NextSong|       29|   200|1538353441000|    30|\n",
      "|Logged In|           87| free|   PUT|       NextSong|        8|   200|1538353576000|     9|\n",
      "|Logged In|            0| free|   PUT|       NextSong|      217|   200|1538353668000|    74|\n",
      "|Logged In|           58| paid|   PUT|       NextSong|       29|   200|1538353687000|    30|\n",
      "|Logged In|           88| free|   PUT|       NextSong|        8|   200|1538353744000|     9|\n",
      "+---------+-------------+-----+------+---------------+---------+------+-------------+------+\n",
      "only showing top 20 rows\n",
      "\n"
     ]
    }
   ],
   "source": [
    "# Remove the outlier columns from the dataset\n",
    "df = df.drop(*['artist', 'firstname', 'gender', 'lastname', 'length', 'location', 'registration', 'song', 'userAgent'])\n",
    "df.show()"
   ]
  },
  {
   "cell_type": "code",
   "execution_count": 11,
   "metadata": {},
   "outputs": [
    {
     "data": {
      "text/plain": [
       "auth             0\n",
       "itemInSession    0\n",
       "level            0\n",
       "method           0\n",
       "page             0\n",
       "sessionId        0\n",
       "status           0\n",
       "ts               0\n",
       "userId           0\n",
       "dtype: int64"
      ]
     },
     "execution_count": 11,
     "metadata": {},
     "output_type": "execute_result"
    }
   ],
   "source": [
    "df.toPandas().isnull().sum()"
   ]
  },
  {
   "cell_type": "code",
   "execution_count": 40,
   "metadata": {},
   "outputs": [
    {
     "data": {
      "text/plain": [
       "278154"
      ]
     },
     "execution_count": 40,
     "metadata": {},
     "output_type": "execute_result"
    }
   ],
   "source": [
    "# filter out empty user ID from earlier dataset exploration\n",
    "df = df.filter(df.userId != \"\")\n",
    "df.count()"
   ]
  },
  {
   "cell_type": "code",
   "execution_count": 13,
   "metadata": {},
   "outputs": [
    {
     "name": "stdout",
     "output_type": "stream",
     "text": [
      "+---------+-----+--------------------+\n",
      "|     auth|level|                page|\n",
      "+---------+-----+--------------------+\n",
      "|Cancelled| free|Cancellation Conf...|\n",
      "|Cancelled| paid|Cancellation Conf...|\n",
      "|Logged In| free|            Settings|\n",
      "|Logged In| free|              Logout|\n",
      "|Logged In| free|                Help|\n",
      "|Logged In| paid|       Save Settings|\n",
      "|Logged In| paid|               About|\n",
      "|Logged In| free|         Thumbs Down|\n",
      "|Logged In| paid|              Logout|\n",
      "|Logged In| free|         Roll Advert|\n",
      "|Logged In| free|           Thumbs Up|\n",
      "|Logged In| paid|         Thumbs Down|\n",
      "|Logged In| paid|                Home|\n",
      "|Logged In| paid|           Thumbs Up|\n",
      "|Logged In| paid|          Add Friend|\n",
      "|Logged In| paid|    Submit Downgrade|\n",
      "|Logged In| free|            NextSong|\n",
      "|Logged In| paid|              Cancel|\n",
      "|Logged In| free|               About|\n",
      "|Logged In| free|      Submit Upgrade|\n",
      "+---------+-----+--------------------+\n",
      "only showing top 20 rows\n",
      "\n"
     ]
    }
   ],
   "source": [
    "# look at all the possible 'auth', 'level', and 'page' attributes \n",
    "df.select([\"auth\", \"level\", \"page\"]).dropDuplicates().sort(\"auth\").show()"
   ]
  },
  {
   "cell_type": "code",
   "execution_count": 14,
   "metadata": {},
   "outputs": [
    {
     "name": "stdout",
     "output_type": "stream",
     "text": [
      "+---------+--------------------+-------------+\n",
      "|     auth|                page|           ts|\n",
      "+---------+--------------------+-------------+\n",
      "|Cancelled|Cancellation Conf...|1539375441000|\n",
      "|Cancelled|Cancellation Conf...|1542356278000|\n",
      "|Cancelled|Cancellation Conf...|1540062068000|\n",
      "|Cancelled|Cancellation Conf...|1539274781000|\n",
      "|Cancelled|Cancellation Conf...|1540353577000|\n",
      "|Cancelled|Cancellation Conf...|1539318918000|\n",
      "|Cancelled|Cancellation Conf...|1539971825000|\n",
      "|Cancelled|Cancellation Conf...|1539475237000|\n",
      "|Cancelled|Cancellation Conf...|1541184816000|\n",
      "|Cancelled|Cancellation Conf...|1542181031000|\n",
      "|Cancelled|Cancellation Conf...|1543073753000|\n",
      "|Cancelled|Cancellation Conf...|1540062847000|\n",
      "|Cancelled|Cancellation Conf...|1538753070000|\n",
      "|Cancelled|Cancellation Conf...|1538943990000|\n",
      "|Cancelled|Cancellation Conf...|1541153274000|\n",
      "|Cancelled|Cancellation Conf...|1543009344000|\n",
      "|Cancelled|Cancellation Conf...|1541463632000|\n",
      "|Cancelled|Cancellation Conf...|1541120964000|\n",
      "|Cancelled|Cancellation Conf...|1538498205000|\n",
      "|Cancelled|Cancellation Conf...|1542740649000|\n",
      "+---------+--------------------+-------------+\n",
      "only showing top 20 rows\n",
      "\n"
     ]
    }
   ],
   "source": [
    "# look at all the possible 'auth', 'gender', and 'ts' attributes\n",
    "df.select([\"auth\", \"page\", \"ts\"]).dropDuplicates().sort(\"auth\").show()"
   ]
  },
  {
   "cell_type": "markdown",
   "metadata": {},
   "source": [
    "# Exploratory Data Analysis\n",
    "When you're working with the full dataset, perform EDA by loading a small subset of the data and doing basic manipulations within Spark. In this workspace, you are already provided a small subset of data you can explore.\n",
    "\n",
    "### Define Churn\n",
    "\n",
    "Once you've done some preliminary analysis, create a column `Churn` to use as the label for your model. I suggest using the `Cancellation Confirmation` events to define your churn, which happen for both paid and free users. As a bonus task, you can also look into the `Downgrade` events.\n",
    "\n",
    "### Explore Data\n",
    "Once you've defined churn, perform some exploratory data analysis to observe the behavior for users who stayed vs users who churned. You can start by exploring aggregates on these two groups of users, observing how much of a specific action they experienced per a certain time unit or number of songs played."
   ]
  },
  {
   "cell_type": "markdown",
   "metadata": {},
   "source": [
    "#### Defining churn as people who cancelled Sparkify"
   ]
  },
  {
   "cell_type": "code",
   "execution_count": 15,
   "metadata": {},
   "outputs": [
    {
     "name": "stdout",
     "output_type": "stream",
     "text": [
      "+---------+\n",
      "|     auth|\n",
      "+---------+\n",
      "|Cancelled|\n",
      "|Logged In|\n",
      "+---------+\n",
      "\n"
     ]
    }
   ],
   "source": [
    "df.select([\"auth\"]).dropDuplicates().sort(\"auth\").show()"
   ]
  },
  {
   "cell_type": "markdown",
   "metadata": {},
   "source": [
    "#### Cells below are for exploring the data"
   ]
  },
  {
   "cell_type": "code",
   "execution_count": 116,
   "metadata": {},
   "outputs": [],
   "source": [
    "# function for converting Row object to string\n",
    "convert_row_to_string = lambda x, y: x.asDict()[y]\n",
    "\n",
    "# function for plotting distribution\n",
    "def plot(dfList, attr: str):\n",
    "    fig, ax = plt.subplots(1, 2, figsize=(20, 10))\n",
    "    for i, (df, auth) in enumerate(zip(dfList, ['Churned Users', 'Stayed Users'])):\n",
    "        plot = sns.countplot(x=attr, data=df, ax=ax[i])\n",
    "        ax[i].set_title(auth)\n",
    "        for p in plot.patches:\n",
    "            plot.annotate(p.get_height(), (p.get_x() + p.get_width() / 2, p.get_height()), ha = 'center', \\\n",
    "                          va = 'center', xytext = (0, 10), textcoords = 'offset points')"
   ]
  },
  {
   "cell_type": "code",
   "execution_count": 117,
   "metadata": {},
   "outputs": [
    {
     "name": "stdout",
     "output_type": "stream",
     "text": [
      "Unique user events:  ['About', 'Add Friend', 'Add to Playlist', 'Cancel', 'Cancellation Confirmation', 'Downgrade', 'Error', 'Help', 'Home', 'Logout', 'NextSong', 'Roll Advert', 'Save Settings', 'Settings', 'Submit Downgrade', 'Submit Upgrade', 'Thumbs Down', 'Thumbs Up', 'Upgrade']\n",
      "# of unique pages:  19\n"
     ]
    }
   ],
   "source": [
    "page = df.select([\"page\"]).dropDuplicates().sort(\"page\").collect()\n",
    "pageList = list(map(convert_row_to_string, page, ['page' for i in range(len(page))]))\n",
    "print(\"Unique user events: \", pageList)\n",
    "print(\"# of unique pages: \", len(pageList))"
   ]
  },
  {
   "cell_type": "code",
   "execution_count": 19,
   "metadata": {},
   "outputs": [
    {
     "name": "stdout",
     "output_type": "stream",
     "text": [
      "# of unique users in Sparkify: 225\n"
     ]
    }
   ],
   "source": [
    "users = df.select([\"userId\"]).dropDuplicates().sort(\"userId\").collect()\n",
    "usersList = list(map(convert_row_to_string, users, ['userId' for i in range(len(users))]))\n",
    "print(\"# of unique users in Sparkify: %d\" % len(usersList))"
   ]
  },
  {
   "cell_type": "code",
   "execution_count": 20,
   "metadata": {},
   "outputs": [
    {
     "name": "stdout",
     "output_type": "stream",
     "text": [
      "Unique users who churned:  ['100001', '100003', '100005', '100006', '100007', '100009', '100011', '100012', '100013', '100014', '100015', '100017', '100019', '100021', '100022', '100023', '100024', '100025', '101', '103', '105', '106', '12', '121', '122', '125', '129', '143', '17', '18', '200001', '200011', '200015', '200016', '200017', '200018', '200020', '200021', '200024', '28', '29', '3', '300001', '300007', '32', '51', '53', '54', '58', '70', '73', '87']\n",
      "# of unique users who churned:  52\n"
     ]
    }
   ],
   "source": [
    "# users who churned\n",
    "churn_users = df.filter(df.auth == \"Cancelled\").groupby(df.userId).count().orderBy(df.userId).collect()\n",
    "churn_users_list = list(map(convert_row_to_string, churn_users, ['userId' for i in range(len(churn_users))]))\n",
    "print(\"Unique users who churned: \", churn_users_list)\n",
    "print(\"# of unique users who churned: \", len(churn_users_list))"
   ]
  },
  {
   "cell_type": "code",
   "execution_count": 21,
   "metadata": {},
   "outputs": [
    {
     "name": "stdout",
     "output_type": "stream",
     "text": [
      "Unique users who stayed:  ['10', '100', '100002', '100004', '100008', '100010', '100016', '100018', '102', '104', '107', '108', '109', '11', '110', '111', '112', '113', '114', '115', '116', '117', '118', '119', '120', '123', '124', '126', '127', '128', '13', '131', '132', '133', '134', '135', '136', '137', '138', '139', '14', '140', '141', '142', '144', '145', '146', '147', '148', '149', '15', '150', '151', '152', '153', '154', '155', '156', '16', '19', '2', '20', '200002', '200003', '200004', '200005', '200006', '200007', '200008', '200009', '200010', '200012', '200014', '200019', '200022', '200023', '200025', '21', '22', '23', '24', '25', '26', '27', '30', '300002', '300003', '300004', '300005', '300006', '300008', '300009', '300010', '300011', '300012', '300013', '300014', '300015', '300016', '300017', '300018', '300019', '300020', '300021', '300022', '300023', '300024', '300025', '33', '34', '35', '36', '37', '38', '39', '4', '40', '41', '42', '43', '44', '45', '46', '47', '49', '5', '50', '52', '55', '56', '57', '59', '6', '60', '61', '62', '63', '64', '65', '66', '67', '68', '69', '7', '71', '72', '74', '75', '76', '77', '78', '79', '8', '80', '81', '82', '83', '84', '85', '86', '88', '89', '9', '90', '91', '92', '93', '94', '95', '96', '97', '98', '99']\n",
      "# of unique users who stayed:  173\n"
     ]
    }
   ],
   "source": [
    "# users who stayed\n",
    "users_who_stayed = [u for u in usersList if not u in churn_users_list]\n",
    "print(\"Unique users who stayed: \", users_who_stayed)\n",
    "print(\"# of unique users who stayed: \", len(users_who_stayed))"
   ]
  },
  {
   "cell_type": "code",
   "execution_count": 22,
   "metadata": {},
   "outputs": [],
   "source": [
    "# dataframes of churned and stayed users for 'level' attribute\n",
    "df_level_churn = df.filter(df.auth == 'Cancelled').select(['auth', 'level']).toPandas()\n",
    "df_level_login = df.filter((df.auth == 'Logged In') & (col(\"userId\").isin(users_who_stayed))).select(['auth', 'level']).toPandas()"
   ]
  },
  {
   "cell_type": "code",
   "execution_count": 23,
   "metadata": {},
   "outputs": [
    {
     "data": {
      "image/png": "[encoded data removed]",
      "text/plain": [
       "<matplotlib.figure.Figure at 0x7f36c86e6390>"
      ]
     },
     "metadata": {
      "needs_background": "light"
     },
     "output_type": "display_data"
    }
   ],
   "source": [
    "plot([df_level_churn, df_level_login], 'level')"
   ]
  },
  {
   "cell_type": "markdown",
   "metadata": {},
   "source": [
    "**Note:** From the plot above, we can clearly see that paid users tend to cancel Sparkify. However, paid users also tend to stay with Sparkify, and so we would need to look at more attributes to see how churned and stayed users behave. "
   ]
  },
  {
   "cell_type": "code",
   "execution_count": 41,
   "metadata": {},
   "outputs": [],
   "source": [
    "# plot timestamp of for churn|d and stayed users"
   ]
  },
  {
   "cell_type": "code",
   "execution_count": 42,
   "metadata": {},
   "outputs": [],
   "source": [
    "# convert epoch timestamps to readable timestamps\n",
    "convert_time = udf(lambda x: datetime.fromtimestamp(x/1000).strftime(\"%Y-%m-%d %H:%M:%S\"))\n",
    "df = df.withColumn(\"time\", convert_time(df.ts))"
   ]
  },
  {
   "cell_type": "code",
   "execution_count": 43,
   "metadata": {},
   "outputs": [
    {
     "name": "stdout",
     "output_type": "stream",
     "text": [
      "+------+---------+-------------------+-----+--------------------+\n",
      "|userId|     auth|               time|level|                page|\n",
      "+------+---------+-------------------+-----+--------------------+\n",
      "|    32|Cancelled|2018-10-08 21:10:46| paid|Cancellation Conf...|\n",
      "|    53|Cancelled|2018-11-19 12:34:56| paid|Cancellation Conf...|\n",
      "|     3|Cancelled|2018-10-30 04:59:03| paid|Cancellation Conf...|\n",
      "|100013|Cancelled|2018-11-02 18:53:36| paid|Cancellation Conf...|\n",
      "|    29|Cancelled|2018-11-14 07:37:11| paid|Cancellation Conf...|\n",
      "|   105|Cancelled|2018-10-12 20:17:21| paid|Cancellation Conf...|\n",
      "|100003|Cancelled|2018-10-11 16:19:41| free|Cancellation Conf...|\n",
      "|200016|Cancelled|2018-11-16 08:17:58| free|Cancellation Conf...|\n",
      "|200001|Cancelled|2018-10-15 18:55:20| free|Cancellation Conf...|\n",
      "|100014|Cancelled|2018-11-20 19:04:09| paid|Cancellation Conf...|\n",
      "|100021|Cancelled|2018-11-25 11:03:02| free|Cancellation Conf...|\n",
      "|100012|Cancelled|2018-11-01 19:35:00| free|Cancellation Conf...|\n",
      "|100006|Cancelled|2018-10-05 15:24:30| free|Cancellation Conf...|\n",
      "|200017|Cancelled|2018-11-15 20:16:43| paid|Cancellation Conf...|\n",
      "|    58|Cancelled|2018-10-22 15:43:26| paid|Cancellation Conf...|\n",
      "|200024|Cancelled|2018-10-24 03:59:37| paid|Cancellation Conf...|\n",
      "|   101|Cancelled|2018-10-16 22:30:37| paid|Cancellation Conf...|\n",
      "|    18|Cancelled|2018-10-07 20:26:30| paid|Cancellation Conf...|\n",
      "|   103|Cancelled|2018-11-04 14:01:31| paid|Cancellation Conf...|\n",
      "|    54|Cancelled|2018-11-12 19:40:08| paid|Cancellation Conf...|\n",
      "+------+---------+-------------------+-----+--------------------+\n",
      "only showing top 20 rows\n",
      "\n"
     ]
    }
   ],
   "source": [
    "df.select([\"userId\", \"auth\", \"time\", \"level\", \"page\"]).dropDuplicates().sort(\"auth\").show()"
   ]
  },
  {
   "cell_type": "code",
   "execution_count": 44,
   "metadata": {},
   "outputs": [],
   "source": [
    "# lambda functions for getting hour and weekday from 'time' attribute\n",
    "get_hour = udf(lambda x: datetime.fromtimestamp(x/1000).hour)\n",
    "get_weekday = udf(lambda x: datetime.fromtimestamp(x/1000).isoweekday())"
   ]
  },
  {
   "cell_type": "code",
   "execution_count": 45,
   "metadata": {},
   "outputs": [],
   "source": [
    "df = df.withColumn(\"hour\", get_hour(df.ts))\n",
    "df = df.withColumn(\"weekday\", get_weekday(df.ts))"
   ]
  },
  {
   "cell_type": "code",
   "execution_count": 46,
   "metadata": {},
   "outputs": [
    {
     "name": "stdout",
     "output_type": "stream",
     "text": [
      "+------+---------+-------------------+----+-------+\n",
      "|userId|     auth|               time|hour|weekday|\n",
      "+------+---------+-------------------+----+-------+\n",
      "|    28|Cancelled|2018-11-06 00:20:32|   0|      2|\n",
      "|100014|Cancelled|2018-11-20 19:04:09|  19|      2|\n",
      "|100023|Cancelled|2018-10-14 00:00:37|   0|      7|\n",
      "|    73|Cancelled|2018-10-24 17:33:07|  17|      3|\n",
      "|     3|Cancelled|2018-10-30 04:59:03|   4|      2|\n",
      "|300007|Cancelled|2018-10-05 02:08:58|   2|      5|\n",
      "|    87|Cancelled|2018-10-20 15:49:16|  15|      6|\n",
      "|   143|Cancelled|2018-10-15 07:34:14|   7|      1|\n",
      "|   129|Cancelled|2018-10-17 00:29:21|   0|      3|\n",
      "|    12|Cancelled|2018-10-22 07:29:34|   7|      1|\n",
      "|    53|Cancelled|2018-11-19 12:34:56|  12|      1|\n",
      "|100019|Cancelled|2018-10-07 22:57:51|  22|      7|\n",
      "|100017|Cancelled|2018-10-20 19:14:07|  19|      6|\n",
      "|100012|Cancelled|2018-11-01 19:35:00|  19|      4|\n",
      "|200016|Cancelled|2018-11-16 08:17:58|   8|      5|\n",
      "|    18|Cancelled|2018-10-07 20:26:30|  20|      7|\n",
      "|200017|Cancelled|2018-11-15 20:16:43|  20|      4|\n",
      "|100003|Cancelled|2018-10-11 16:19:41|  16|      4|\n",
      "|   103|Cancelled|2018-11-04 14:01:31|  14|      7|\n",
      "|   125|Cancelled|2018-10-12 04:35:18|   4|      5|\n",
      "+------+---------+-------------------+----+-------+\n",
      "only showing top 20 rows\n",
      "\n"
     ]
    }
   ],
   "source": [
    "df.select([\"userId\", \"auth\", \"time\", \"hour\", \"weekday\"]).dropDuplicates().sort(\"auth\").show()"
   ]
  },
  {
   "cell_type": "code",
   "execution_count": 30,
   "metadata": {},
   "outputs": [],
   "source": [
    "# dataframes of churned and stayed users for 'hour' attribute\n",
    "df_hour_churn = df.filter(df.auth == 'Cancelled').select(['auth', 'hour']).toPandas()\n",
    "df_hour_login = df.filter((df.auth == 'Logged In') & (col(\"userId\").isin(users_who_stayed))).select(['auth', 'hour']).toPandas()"
   ]
  },
  {
   "cell_type": "code",
   "execution_count": 31,
   "metadata": {},
   "outputs": [
    {
     "data": {
      "image/png": "[encoded data removed]",
      "text/plain": [
       "<matplotlib.figure.Figure at 0x7f36d216f048>"
      ]
     },
     "metadata": {
      "needs_background": "light"
     },
     "output_type": "display_data"
    }
   ],
   "source": [
    "plot([df_hour_churn, df_hour_login], 'hour')"
   ]
  },
  {
   "cell_type": "markdown",
   "metadata": {},
   "source": [
    "**Note:** We can see that churned users are most active in the morning at 7am and from 3-12pm, whereas the stayed users are somewhat active at night from 8-12pm but most active in the day from 10am-6pm. From the hour of the day, we can conclude that stayed users are more consistent with interacting with Sparkify throughout than churned users do.  "
   ]
  },
  {
   "cell_type": "code",
   "execution_count": 32,
   "metadata": {},
   "outputs": [],
   "source": [
    "# dataframes of churned and stayed users for 'weekday' attribute\n",
    "df_weekday_churn = df.filter(df.auth == 'Cancelled').select(['auth', 'weekday']).toPandas()\n",
    "df_weekday_login = df.filter((df.auth == 'Logged In') & (col(\"userId\").isin(users_who_stayed))).select(['auth', 'weekday']).toPandas()"
   ]
  },
  {
   "cell_type": "code",
   "execution_count": 33,
   "metadata": {},
   "outputs": [
    {
     "data": {
      "image/png": "[encoded data removed]",
      "text/plain": [
       "<matplotlib.figure.Figure at 0x7f36ce1810b8>"
      ]
     },
     "metadata": {
      "needs_background": "light"
     },
     "output_type": "display_data"
    }
   ],
   "source": [
    "plot([df_weekday_churn, df_weekday_login], 'weekday')"
   ]
  },
  {
   "cell_type": "markdown",
   "metadata": {},
   "source": [
    "**Note:** From the two plots above where 1-7 represents Monday-Sunday respectively, it is obvious that stayed users interact with Sparkify mostly on weekdays, whereas churned users interact with Sparkify mostly on Mondays and Fridays. We can also see how the sporadic the pattern is for churned users compared to stayed users.   "
   ]
  },
  {
   "cell_type": "code",
   "execution_count": 34,
   "metadata": {},
   "outputs": [],
   "source": [
    "# function to find users' frequency per page\n",
    "def get_user_counts_per_page(pages, users):\n",
    "    usersPerPage = []\n",
    "    start = time.time()\n",
    "    for page in pages:\n",
    "        usersCounts = df.filter((df.page == page) & (col(\"userId\").isin(users))) \\\n",
    "            .select('userId') \\\n",
    "            .groupBy('userId') \\\n",
    "            .agg({'userId':'count'}) \\\n",
    "            .withColumnRenamed('count(userId)', 'count').collect()\n",
    "        usersCountsList = list(map(convert_row_to_string, usersCounts, ['count' for i in range(len(usersCounts))]))\n",
    "        usersPerPage.append(usersCountsList) if usersCountsList else usersPerPage.append([0])\n",
    "    end = time.time()\n",
    "    print(\"Total time elapsed for extracting churned users' visit count per page:\", end-start, \"s\")\n",
    "    return usersPerPage\n",
    "\n",
    "# function to sort page list\n",
    "def getKey(item):\n",
    "    return item[1]"
   ]
  },
  {
   "cell_type": "code",
   "execution_count": 35,
   "metadata": {},
   "outputs": [
    {
     "name": "stdout",
     "output_type": "stream",
     "text": [
      "Total time elapsed for extracting churned users' visit count per page: 28.10676646232605 s\n",
      "# of visits per page by each churned user:\n",
      "About: 56\n",
      "Add Friend: 636\n",
      "Add to Playlist: 1038\n",
      "Cancel: 52\n",
      "Cancellation Confirmation: 52\n",
      "Downgrade: 337\n",
      "Error: 32\n",
      "Help: 239\n",
      "Home: 1672\n",
      "Logout: 553\n",
      "NextSong: 36394\n",
      "Roll Advert: 967\n",
      "Save Settings: 58\n",
      "Settings: 270\n",
      "Submit Downgrade: 9\n",
      "Submit Upgrade: 32\n",
      "Thumbs Down: 496\n",
      "Thumbs Up: 1859\n",
      "Upgrade: 112\n"
     ]
    }
   ],
   "source": [
    "churnUserPageList = []\n",
    "sum_of_page_per_churn_user = get_user_counts_per_page(pageList, churn_users_list)\n",
    "sum_of_pages = list(map(lambda counts: reduce(lambda x,y: x+y, counts), sum_of_page_per_churn_user))\n",
    "\n",
    "print(\"# of visits per page by each churned user:\")\n",
    "for i, (page, sumOfPage) in enumerate(zip(pageList, sum_of_pages)):\n",
    "    churnUserPageList.append((page, sumOfPage))\n",
    "    print(\"{0}: {1}\".format(page, sumOfPage))"
   ]
  },
  {
   "cell_type": "code",
   "execution_count": 36,
   "metadata": {},
   "outputs": [],
   "source": [
    "# sort page list from in descending order for visit frequency\n",
    "sum_of_pages.sort(reverse=True)\n",
    "churnUserPageList = sorted(churnUserPageList, key=getKey, reverse=True)\n",
    "\n",
    "sortedChurnUserPageList = []\n",
    "for pair in churnUserPageList:\n",
    "    sortedChurnUserPageList.append(pair[0])"
   ]
  },
  {
   "cell_type": "code",
   "execution_count": 37,
   "metadata": {},
   "outputs": [
    {
     "data": {
      "image/png": "[encoded data removed]",
      "text/plain": [
       "<matplotlib.figure.Figure at 0x7f36cf1940b8>"
      ]
     },
     "metadata": {
      "needs_background": "light"
     },
     "output_type": "display_data"
    }
   ],
   "source": [
    "# Distribution of the frequency at which churned users visited each page\n",
    "fig, ax = plt.subplots(figsize=(20, 10))\n",
    "x = np.arange(len(sortedChurnUserPageList))\n",
    "width = 0.3\n",
    "\n",
    "bar = ax.bar(x - width/2, sum_of_pages, width)\n",
    "\n",
    "ax.set_ylabel(\"Frequency/Count(s)\")\n",
    "ax.set_title(\"Distribution of Churned Users' Visit Frequency Per Page\")\n",
    "ax.set_xticks(x)\n",
    "ax.set_xticklabels(sortedChurnUserPageList, rotation='vertical')\n",
    "\n",
    "for p in ax.patches:\n",
    "    ax.annotate(p.get_height(), (p.get_x() + p.get_width() / 2, p.get_height()), ha = 'center', \\\n",
    "                  va = 'center', xytext = (0, 10), textcoords = 'offset points')\n",
    "\n",
    "ax.legend()"
   ]
  },
  {
   "cell_type": "code",
   "execution_count": 38,
   "metadata": {},
   "outputs": [
    {
     "name": "stdout",
     "output_type": "stream",
     "text": [
      "Total time elapsed for extracting churned users' visit count per page: 28.659865856170654 s\n",
      "# of visits per page by each stayed user:\n",
      "About: 439\n",
      "Add Friend: 3641\n",
      "Add to Playlist: 5488\n",
      "Cancel: 0\n",
      "Cancellation Confirmation: 0\n",
      "Downgrade: 1718\n",
      "Error: 220\n",
      "Help: 1215\n",
      "Home: 8410\n",
      "Logout: 2673\n",
      "NextSong: 191714\n",
      "Roll Advert: 2966\n",
      "Save Settings: 252\n",
      "Settings: 1244\n",
      "Submit Downgrade: 54\n",
      "Submit Upgrade: 127\n",
      "Thumbs Down: 2050\n",
      "Thumbs Up: 10692\n",
      "Upgrade: 387\n"
     ]
    }
   ],
   "source": [
    "stayedUsersPageList = []\n",
    "sum_of_page_per_stayed_user = get_user_counts_per_page(pageList, users_who_stayed)\n",
    "sum_of_pages_stayed_users = list(map(lambda counts: reduce(lambda x,y: x+y, counts), sum_of_page_per_stayed_user))\n",
    "\n",
    "print(\"# of visits per page by each stayed user:\")\n",
    "for i, (page, sumOfPage) in enumerate(zip(pageList, sum_of_pages_stayed_users)):\n",
    "    stayedUsersPageList.append((page, sumOfPage))\n",
    "    print(\"{0}: {1}\".format(page, sumOfPage))"
   ]
  },
  {
   "cell_type": "code",
   "execution_count": 41,
   "metadata": {},
   "outputs": [],
   "source": [
    "# sort page list from in descending order for visit frequency\n",
    "sum_of_pages_stayed_users.sort(reverse=True)\n",
    "stayedUsersPageList = sorted(stayedUsersPageList, key=getKey, reverse=True)\n",
    "\n",
    "sortedPageListForStayedUsers = []\n",
    "for pair in stayedUsersPageList:\n",
    "    sortedPageListForStayedUsers.append(pair[0])"
   ]
  },
  {
   "cell_type": "code",
   "execution_count": 42,
   "metadata": {},
   "outputs": [
    {
     "data": {
      "image/png": "[encoded data removed]",
      "text/plain": [
       "<matplotlib.figure.Figure at 0x7f36c3cff5c0>"
      ]
     },
     "metadata": {
      "needs_background": "light"
     },
     "output_type": "display_data"
    }
   ],
   "source": [
    "# Distribution of the frequency at which churned users visited each page\n",
    "fig, ax = plt.subplots(figsize=(20, 10))\n",
    "x = np.arange(len(sortedPageListForStayedUsers))\n",
    "width = 0.3\n",
    "\n",
    "bar = ax.bar(x - width/2, sum_of_pages_stayed_users, width)\n",
    "\n",
    "ax.set_ylabel(\"Frequency/Count(s)\")\n",
    "ax.set_title(\"Distribution of Stayed Users' Visit Frequency Per Page\")\n",
    "ax.set_xticks(x)\n",
    "ax.set_xticklabels(sortedPageListForStayedUsers, rotation='vertical')\n",
    "\n",
    "for p in ax.patches:\n",
    "    ax.annotate(p.get_height(), (p.get_x() + p.get_width() / 2, p.get_height()), ha = 'center', \\\n",
    "                  va = 'center', xytext = (0, 10), textcoords = 'offset points')\n",
    "\n",
    "ax.legend()"
   ]
  },
  {
   "cell_type": "code",
   "execution_count": 43,
   "metadata": {},
   "outputs": [],
   "source": [
    "# total event visit counts of churned and stayed users\n",
    "totalCountsOfChurnUsers = reduce(lambda x, y: x+y, sum_of_pages)\n",
    "totalCountsOfStayedUsers = reduce(lambda x, y: x+y, sum_of_pages_stayed_users)"
   ]
  },
  {
   "cell_type": "code",
   "execution_count": 44,
   "metadata": {},
   "outputs": [
    {
     "name": "stdout",
     "output_type": "stream",
     "text": [
      "Relative proportion of 'Downgrade' in churned users group:  0.007511590584878745\n",
      "Relative proportion of 'Downgrade' in stayed users group:  0.007364224784602855\n",
      "Relative proportion of 'Thumbs Down' in churned users group:  0.011055634807417974\n",
      "Relative proportion of 'Thumbs Down' in stayed users group:  0.008787346221441126\n"
     ]
    }
   ],
   "source": [
    "# calculate how many counts of 'Downgrade' and 'Thumbs Down' events of stayed and cancelled users, which are usually  \n",
    "# indicators of unsatisified users, are in the total number of stayed and cancelled users \n",
    "churnDowngrade = dict(churnUserPageList)['Downgrade'] / totalCountsOfChurnUsers\n",
    "stayedDowngrade = dict(stayedUsersPageList)['Downgrade'] / totalCountsOfStayedUsers\n",
    "churnThumbsDown = dict(churnUserPageList)['Thumbs Down'] / totalCountsOfChurnUsers\n",
    "stayedThumbsDown = dict(stayedUsersPageList)['Thumbs Down'] / totalCountsOfStayedUsers\n",
    "\n",
    "print(\"Relative proportion of 'Downgrade' in churned users group: \", churnDowngrade)\n",
    "print(\"Relative proportion of 'Downgrade' in stayed users group: \", stayedDowngrade)\n",
    "print(\"Relative proportion of 'Thumbs Down' in churned users group: \", churnThumbsDown)\n",
    "print(\"Relative proportion of 'Thumbs Down' in stayed users group: \", stayedThumbsDown)"
   ]
  },
  {
   "cell_type": "code",
   "execution_count": 45,
   "metadata": {},
   "outputs": [
    {
     "name": "stdout",
     "output_type": "stream",
     "text": [
      "Relative proportion of 'Add Friend' in churned users group:  0.014176176890156919\n",
      "Relative proportion of 'Add Friend' in stayed users group:  0.015607184191349823\n",
      "Relative proportion of 'Upgrade' in churned users group:  0.0024964336661911554\n",
      "Relative proportion of 'Upgrade' in stayed users group:  0.0016588795061940075\n",
      "Relative proportion of 'Add to Playlist'' in churned users group:  0.023136590584878745\n",
      "Relative proportion of 'Add to Playlist' in stayed users group:  0.023524368811350678\n",
      "Relative proportion of 'Thumbs Up' in churned users group:  0.04143634094151213\n",
      "Relative proportion of 'Thumbs Up' in stayed users group:  0.04583136868275537\n"
     ]
    }
   ],
   "source": [
    "# how many counts of 'Add Friend', 'Upgrade', 'Add to Playlist', and 'Thumbs Up' events of stayed and cancelled users, which \n",
    "# are indicators of how well users interact with the service, are in the total number of stayed and cancelled users \n",
    "churnAddF = dict(churnUserPageList)['Add Friend'] / totalCountsOfChurnUsers\n",
    "stayedAddF = dict(stayedUsersPageList)['Add Friend'] / totalCountsOfStayedUsers\n",
    "churnUpgrade = dict(churnUserPageList)['Upgrade'] / totalCountsOfChurnUsers\n",
    "stayedUpgrade = dict(stayedUsersPageList)['Upgrade'] / totalCountsOfStayedUsers\n",
    "churnAddP = dict(churnUserPageList)['Add to Playlist'] / totalCountsOfChurnUsers\n",
    "stayedAddP = dict(stayedUsersPageList)['Add to Playlist'] / totalCountsOfStayedUsers\n",
    "churnThumbsUp = dict(churnUserPageList)['Thumbs Up'] / totalCountsOfChurnUsers\n",
    "stayedThumbsUp = dict(stayedUsersPageList)['Thumbs Up'] / totalCountsOfStayedUsers\n",
    "\n",
    "print(\"Relative proportion of 'Add Friend' in churned users group: \", churnAddF)\n",
    "print(\"Relative proportion of 'Add Friend' in stayed users group: \", stayedAddF)\n",
    "print(\"Relative proportion of 'Upgrade' in churned users group: \", churnUpgrade)\n",
    "print(\"Relative proportion of 'Upgrade' in stayed users group: \", stayedUpgrade)\n",
    "print(\"Relative proportion of 'Add to Playlist'' in churned users group: \", churnAddP)\n",
    "print(\"Relative proportion of 'Add to Playlist' in stayed users group: \", stayedAddP)\n",
    "print(\"Relative proportion of 'Thumbs Up' in churned users group: \", churnThumbsUp)\n",
    "print(\"Relative proportion of 'Thumbs Up' in stayed users group: \", stayedThumbsUp)"
   ]
  },
  {
   "cell_type": "markdown",
   "metadata": {},
   "source": [
    "**Note:** From the bar graphs analyzing the user behaviors between users who stayed and cancelled, users who stayed and cancelled both like to explore different kinds of songs with their frequent interaction with the \"NextSong\" and \"Home\" events. However, when we look at indicators that show the potential unsatisfaction from the users about the service, we can see how cancelled users tend to downgrade and commit a 'Thumbs Down' event more frequently than stayed users do, as calculated in the cells above. Also, I used events, such as 'Add Friend', 'Upgrade', 'Add to Playlist', and 'Thumbs Up', as indicators about how well the users interact with the service, and the results calculated above show that stayed users commit 'Add Friend', 'Add to Playlist', and 'Thumbs Up' events more frequently than cancelled users, except for 'Upgrade'. I believe that even though cancelled users upgrade their service more, but were unsatisfied with the service which led to their eventual cancellation of the service.       "
   ]
  },
  {
   "cell_type": "markdown",
   "metadata": {},
   "source": [
    "# Feature Engineering\n",
    "Once you've familiarized yourself with the data, build out the features you find promising to train your model on. To work with the full dataset, you can follow the following steps.\n",
    "- Write a script to extract the necessary features from the smaller subset of data\n",
    "- Ensure that your script is scalable, using the best practices discussed in Lesson 3\n",
    "- Try your script on the full data set, debugging your script if necessary\n",
    "\n",
    "If you are working in the classroom workspace, you can just extract features based on the small subset of data contained here. Be sure to transfer over this work to the larger dataset when you work on your Spark cluster."
   ]
  },
  {
   "cell_type": "code",
   "execution_count": 47,
   "metadata": {},
   "outputs": [
    {
     "name": "stdout",
     "output_type": "stream",
     "text": [
      "+---------+-------------+-----+------+---------------+---------+------+-------------+------+-------------------+----+-------+\n",
      "|     auth|itemInSession|level|method|           page|sessionId|status|           ts|userId|               time|hour|weekday|\n",
      "+---------+-------------+-----+------+---------------+---------+------+-------------+------+-------------------+----+-------+\n",
      "|Logged In|           50| paid|   PUT|       NextSong|       29|   200|1538352117000|    30|2018-10-01 00:01:57|   0|      1|\n",
      "|Logged In|           79| free|   PUT|       NextSong|        8|   200|1538352180000|     9|2018-10-01 00:03:00|   0|      1|\n",
      "|Logged In|           51| paid|   PUT|       NextSong|       29|   200|1538352394000|    30|2018-10-01 00:06:34|   0|      1|\n",
      "|Logged In|           80| free|   PUT|       NextSong|        8|   200|1538352416000|     9|2018-10-01 00:06:56|   0|      1|\n",
      "|Logged In|           52| paid|   PUT|       NextSong|       29|   200|1538352676000|    30|2018-10-01 00:11:16|   0|      1|\n",
      "|Logged In|           81| free|   PUT|       NextSong|        8|   200|1538352678000|     9|2018-10-01 00:11:18|   0|      1|\n",
      "|Logged In|           82| free|   PUT|       NextSong|        8|   200|1538352886000|     9|2018-10-01 00:14:46|   0|      1|\n",
      "|Logged In|           53| paid|   PUT|       NextSong|       29|   200|1538352899000|    30|2018-10-01 00:14:59|   0|      1|\n",
      "|Logged In|           54| paid|   PUT|Add to Playlist|       29|   200|1538352905000|    30|2018-10-01 00:15:05|   0|      1|\n",
      "|Logged In|           55| paid|   PUT|       NextSong|       29|   200|1538353084000|    30|2018-10-01 00:18:04|   0|      1|\n",
      "|Logged In|           83| free|   PUT|       NextSong|        8|   200|1538353146000|     9|2018-10-01 00:19:06|   0|      1|\n",
      "|Logged In|           84| free|   GET|    Roll Advert|        8|   200|1538353150000|     9|2018-10-01 00:19:10|   0|      1|\n",
      "|Logged In|           56| paid|   PUT|       NextSong|       29|   200|1538353218000|    30|2018-10-01 00:20:18|   0|      1|\n",
      "|Logged In|           85| free|   PUT|       NextSong|        8|   200|1538353375000|     9|2018-10-01 00:22:55|   0|      1|\n",
      "|Logged In|           86| free|   PUT|      Thumbs Up|        8|   307|1538353376000|     9|2018-10-01 00:22:56|   0|      1|\n",
      "|Logged In|           57| paid|   PUT|       NextSong|       29|   200|1538353441000|    30|2018-10-01 00:24:01|   0|      1|\n",
      "|Logged In|           87| free|   PUT|       NextSong|        8|   200|1538353576000|     9|2018-10-01 00:26:16|   0|      1|\n",
      "|Logged In|            0| free|   PUT|       NextSong|      217|   200|1538353668000|    74|2018-10-01 00:27:48|   0|      1|\n",
      "|Logged In|           58| paid|   PUT|       NextSong|       29|   200|1538353687000|    30|2018-10-01 00:28:07|   0|      1|\n",
      "|Logged In|           88| free|   PUT|       NextSong|        8|   200|1538353744000|     9|2018-10-01 00:29:04|   0|      1|\n",
      "+---------+-------------+-----+------+---------------+---------+------+-------------+------+-------------------+----+-------+\n",
      "only showing top 20 rows\n",
      "\n"
     ]
    }
   ],
   "source": [
    "df.show()"
   ]
  },
  {
   "cell_type": "code",
   "execution_count": 88,
   "metadata": {},
   "outputs": [
    {
     "name": "stdout",
     "output_type": "stream",
     "text": [
      "+---------+-------------+-----+---------------+------+-------------------+----+-------+\n",
      "|     auth|itemInSession|level|           page|userId|               time|hour|weekday|\n",
      "+---------+-------------+-----+---------------+------+-------------------+----+-------+\n",
      "|Logged In|           50| paid|       NextSong|    30|2018-10-01 00:01:57|   0|      1|\n",
      "|Logged In|           79| free|       NextSong|     9|2018-10-01 00:03:00|   0|      1|\n",
      "|Logged In|           51| paid|       NextSong|    30|2018-10-01 00:06:34|   0|      1|\n",
      "|Logged In|           80| free|       NextSong|     9|2018-10-01 00:06:56|   0|      1|\n",
      "|Logged In|           52| paid|       NextSong|    30|2018-10-01 00:11:16|   0|      1|\n",
      "|Logged In|           81| free|       NextSong|     9|2018-10-01 00:11:18|   0|      1|\n",
      "|Logged In|           82| free|       NextSong|     9|2018-10-01 00:14:46|   0|      1|\n",
      "|Logged In|           53| paid|       NextSong|    30|2018-10-01 00:14:59|   0|      1|\n",
      "|Logged In|           54| paid|Add to Playlist|    30|2018-10-01 00:15:05|   0|      1|\n",
      "|Logged In|           55| paid|       NextSong|    30|2018-10-01 00:18:04|   0|      1|\n",
      "|Logged In|           83| free|       NextSong|     9|2018-10-01 00:19:06|   0|      1|\n",
      "|Logged In|           84| free|    Roll Advert|     9|2018-10-01 00:19:10|   0|      1|\n",
      "|Logged In|           56| paid|       NextSong|    30|2018-10-01 00:20:18|   0|      1|\n",
      "|Logged In|           85| free|       NextSong|     9|2018-10-01 00:22:55|   0|      1|\n",
      "|Logged In|           86| free|      Thumbs Up|     9|2018-10-01 00:22:56|   0|      1|\n",
      "|Logged In|           57| paid|       NextSong|    30|2018-10-01 00:24:01|   0|      1|\n",
      "|Logged In|           87| free|       NextSong|     9|2018-10-01 00:26:16|   0|      1|\n",
      "|Logged In|            0| free|       NextSong|    74|2018-10-01 00:27:48|   0|      1|\n",
      "|Logged In|           58| paid|       NextSong|    30|2018-10-01 00:28:07|   0|      1|\n",
      "|Logged In|           88| free|       NextSong|     9|2018-10-01 00:29:04|   0|      1|\n",
      "+---------+-------------+-----+---------------+------+-------------------+----+-------+\n",
      "only showing top 20 rows\n",
      "\n"
     ]
    }
   ],
   "source": [
    "# Remove the attributes not considered for classification\n",
    "df_processed = df.drop(*['method', 'sessionId', 'ts', 'status'])\n",
    "df_processed.show()"
   ]
  },
  {
   "cell_type": "markdown",
   "metadata": {},
   "source": [
    "#### Define features"
   ]
  },
  {
   "cell_type": "code",
   "execution_count": 89,
   "metadata": {},
   "outputs": [],
   "source": [
    "# convert string to float\n",
    "df_processed = df_processed.withColumn(\"hour\", col(\"hour\").cast(\"float\"))\n",
    "df_processed = df_processed.withColumn(\"weekday\", col(\"weekday\").cast(\"float\"))"
   ]
  },
  {
   "cell_type": "code",
   "execution_count": 90,
   "metadata": {},
   "outputs": [],
   "source": [
    "# defining label based on people who churned\n",
    "indexer_label = StringIndexer(inputCol=\"auth\", outputCol=\"Churn\")\n",
    "df_processed = indexer_label.fit(df_processed).transform(df_processed)"
   ]
  },
  {
   "cell_type": "code",
   "execution_count": 91,
   "metadata": {},
   "outputs": [],
   "source": [
    "# create a new column as binary value for 'level' \n",
    "indexer_level = StringIndexer(inputCol=\"level\", outputCol=\"levelBinary\")\n",
    "df_processed = indexer_level.fit(df_processed).transform(df_processed)"
   ]
  },
  {
   "cell_type": "code",
   "execution_count": 92,
   "metadata": {},
   "outputs": [],
   "source": [
    "# create a new column as multiclass value for 'page' \n",
    "indexer_page = StringIndexer(inputCol=\"page\", outputCol=\"pageMulti\")\n",
    "df_processed = indexer_page.fit(df_processed).transform(df_processed)"
   ]
  },
  {
   "cell_type": "code",
   "execution_count": 93,
   "metadata": {},
   "outputs": [],
   "source": [
    "# combine all features by using VecotrAssembler\n",
    "features = [\"hour\", \"weekday\", \"levelBinary\", \"pageMulti\"]\n",
    "assembler = VectorAssembler(inputCols=features, outputCol=\"ChurnFeatures\")\n",
    "df_processed = assembler.transform(df_processed)"
   ]
  },
  {
   "cell_type": "code",
   "execution_count": 94,
   "metadata": {},
   "outputs": [],
   "source": [
    "# scale features with Normalizer scaler\n",
    "scaler = Normalizer(inputCol=\"ChurnFeatures\", outputCol=\"NormedChurnFeatures\")\n",
    "df_processed = scaler.transform(df_processed)"
   ]
  },
  {
   "cell_type": "markdown",
   "metadata": {},
   "source": [
    "# Modeling\n",
    "Split the full dataset into train, test, and validation sets. Test out several of the machine learning methods you learned. Evaluate the accuracy of the various models, tuning parameters as necessary. Determine your winning model based on test accuracy and report results on the validation set. Since the churned users are a fairly small subset, I suggest using F1 score as the metric to optimize."
   ]
  },
  {
   "cell_type": "code",
   "execution_count": 101,
   "metadata": {},
   "outputs": [
    {
     "name": "stdout",
     "output_type": "stream",
     "text": [
      "+-----+--------------------+\n",
      "|label|            features|\n",
      "+-----+--------------------+\n",
      "|  0.0|       (4,[1],[1.0])|\n",
      "|  0.0|[0.0,0.7071067811...|\n",
      "|  0.0|       (4,[1],[1.0])|\n",
      "|  0.0|[0.0,0.7071067811...|\n",
      "|  0.0|       (4,[1],[1.0])|\n",
      "|  0.0|[0.0,0.7071067811...|\n",
      "|  0.0|[0.0,0.7071067811...|\n",
      "|  0.0|       (4,[1],[1.0])|\n",
      "|  0.0|[0.0,0.3162277660...|\n",
      "|  0.0|       (4,[1],[1.0])|\n",
      "|  0.0|[0.0,0.7071067811...|\n",
      "|  0.0|[0.0,0.1924500897...|\n",
      "|  0.0|       (4,[1],[1.0])|\n",
      "|  0.0|[0.0,0.7071067811...|\n",
      "|  0.0|[0.0,0.5773502691...|\n",
      "|  0.0|       (4,[1],[1.0])|\n",
      "|  0.0|[0.0,0.7071067811...|\n",
      "|  0.0|[0.0,0.7071067811...|\n",
      "|  0.0|       (4,[1],[1.0])|\n",
      "|  0.0|[0.0,0.7071067811...|\n",
      "+-----+--------------------+\n",
      "only showing top 20 rows\n",
      "\n"
     ]
    }
   ],
   "source": [
    "data = df_processed.select(col(\"Churn\").alias(\"label\"), col(\"NormedChurnFeatures\").alias(\"features\"))\n",
    "data.show()"
   ]
  },
  {
   "cell_type": "code",
   "execution_count": 102,
   "metadata": {},
   "outputs": [],
   "source": [
    "train, test = data.randomSplit([0.9, 0.1], seed=42)"
   ]
  },
  {
   "cell_type": "code",
   "execution_count": 104,
   "metadata": {},
   "outputs": [],
   "source": [
    "lr = LogisticRegression(maxIter=10, regParam=0.0, elasticNetParam=0)"
   ]
  },
  {
   "cell_type": "code",
   "execution_count": 105,
   "metadata": {},
   "outputs": [],
   "source": [
    "# fitting training data to pipeline\n",
    "model = lr.fit(train)\n",
    " \n",
    "results = model.transform(test)"
   ]
  },
  {
   "cell_type": "code",
   "execution_count": 106,
   "metadata": {},
   "outputs": [
    {
     "name": "stdout",
     "output_type": "stream",
     "text": [
      "Accuracy = 0.999783\n"
     ]
    }
   ],
   "source": [
    "resultsRight = results.filter(results.label == results.prediction).count()\n",
    "resultsCount = results.count()\n",
    "print(\"Accuracy = %f\" % (resultsRight/resultsCount))"
   ]
  },
  {
   "cell_type": "code",
   "execution_count": 108,
   "metadata": {},
   "outputs": [
    {
     "name": "stdout",
     "output_type": "stream",
     "text": [
      "+-----+----------+\n",
      "|label|prediction|\n",
      "+-----+----------+\n",
      "|  0.0|       0.0|\n",
      "|  1.0|       0.0|\n",
      "+-----+----------+\n",
      "\n"
     ]
    }
   ],
   "source": [
    "results.select([\"label\", \"prediction\"]).dropDuplicates().sort(\"label\").show()"
   ]
  },
  {
   "cell_type": "code",
   "execution_count": 61,
   "metadata": {},
   "outputs": [
    {
     "data": {
      "text/plain": [
       "27697"
      ]
     },
     "execution_count": 61,
     "metadata": {},
     "output_type": "execute_result"
    }
   ],
   "source": [
    "results.select().show()"
   ]
  },
  {
   "cell_type": "code",
   "execution_count": 78,
   "metadata": {},
   "outputs": [
    {
     "data": {
      "text/plain": [
       "<pyspark.ml.classification.BinaryLogisticRegressionTrainingSummary at 0x7f36d81de128>"
      ]
     },
     "execution_count": 78,
     "metadata": {},
     "output_type": "execute_result"
    }
   ],
   "source": []
  },
  {
   "cell_type": "markdown",
   "metadata": {},
   "source": [
    "# Final Steps\n",
    "Clean up your code, adding comments and renaming variables to make the code easier to read and maintain. Refer to the Spark Project Overview page and Data Scientist Capstone Project Rubric to make sure you are including all components of the capstone project and meet all expectations. Remember, this includes thorough documentation in a README file in a Github repository, as well as a web app or blog post."
   ]
  },
  {
   "cell_type": "code",
   "execution_count": null,
   "metadata": {},
   "outputs": [],
   "source": []
  }
 ],
 "metadata": {
  "kernelspec": {
   "display_name": "Python 3",
   "language": "python",
   "name": "python3"
  },
  "language_info": {
   "codemirror_mode": {
    "name": "ipython",
    "version": 3
   },
   "file_extension": ".py",
   "mimetype": "text/x-python",
   "name": "python",
   "nbconvert_exporter": "python",
   "pygments_lexer": "ipython3",
   "version": "3.6.3"
  }
 },
 "nbformat": 4,
 "nbformat_minor": 2
}
